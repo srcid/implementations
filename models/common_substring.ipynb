{
 "cells": [
  {
   "cell_type": "markdown",
   "metadata": {},
   "source": [
    "# Implementation of common string model for MCSP"
   ]
  },
  {
   "cell_type": "code",
   "execution_count": 1,
   "metadata": {},
   "outputs": [],
   "source": [
    "from typing import *\n",
    "\n",
    "import numpy as np\n",
    "import random\n",
    "\n",
    "from ortools.init import pywrapinit\n",
    "from ortools.linear_solver import pywraplp"
   ]
  },
  {
   "cell_type": "markdown",
   "metadata": {},
   "source": [
    "## Helper functions"
   ]
  },
  {
   "cell_type": "code",
   "execution_count": 2,
   "metadata": {},
   "outputs": [],
   "source": [
    "def gen_substring_set(s: str) -> Set[str]:\n",
    "  \"\"\"This function returns all substring of the given string s\n",
    "\n",
    "  Args:\n",
    "      s (str): a string we want extract all substring\n",
    "\n",
    "  Returns:\n",
    "      Set[str]: A set containing every substring without duplicates.\n",
    "  \"\"\"\n",
    "  res: Set[str] = set()\n",
    "\n",
    "  for i in range(len(s)+1):\n",
    "    for j in range(i+1,len(s)+1):\n",
    "      res.add(s[i:j])\n",
    "\n",
    "  return res"
   ]
  },
  {
   "cell_type": "code",
   "execution_count": 3,
   "metadata": {},
   "outputs": [],
   "source": [
    "def gen_substring_pos(s: str, T: Set[str]) -> Dict[str, List[Tuple[int,int]]]:\n",
    "  \"\"\"This function returns dictionary which every key is a substring of 's' \n",
    "     and it is in T, ie. it is a common substring of S1 and S2 input strings\n",
    "\n",
    "  Args:\n",
    "      s (str): a input string\n",
    "      T (Set[str]): All substrings in common of S1 and S2\n",
    "\n",
    "  Returns:\n",
    "      Dict[str, List[Tuple[int,int]]]: All common substring occurrences indexes\n",
    "  \"\"\"\n",
    "  res: Dict[str, List[Tuple[int,int]]] = {}\n",
    "\n",
    "  for i in range(len(s)+1):\n",
    "    for j in range(i+1,len(s)+1):\n",
    "      if s[i:j] in T:\n",
    "        if s[i:j] in res:\n",
    "          res[s[i:j]].append((i,j))\n",
    "        else:\n",
    "          res[s[i:j]] = [(i,j)]\n",
    "\n",
    "  return res"
   ]
  },
  {
   "cell_type": "code",
   "execution_count": 4,
   "metadata": {},
   "outputs": [],
   "source": [
    "def shufle_string(s):\n",
    "  l = list(s)\n",
    "  random.shuffle(l)\n",
    "  result = ''.join(l)\n",
    "  return result"
   ]
  },
  {
   "cell_type": "code",
   "execution_count": 5,
   "metadata": {},
   "outputs": [],
   "source": [
    "# S1 = 'AGACTG'\n",
    "# S2 = 'ACTAGG'\n",
    "# res: 3\n",
    "\n",
    "#S1 = '11234'*50\n",
    "#S2 = shufle_string(S1)\n",
    "\n",
    "S1 = '11431131222222242211241142233142424314334333334114212232341142441422241314343143441412214343314324312341333414223221242432233112313443421344143312213144413121'\n",
    "S2 = '21114222233233431242212421223443444222434144334233243143431241134141124112331441131423434214333342211141234323241224133411332243342213211142413134241311424312'\n",
    "# res: 52\n",
    "\n",
    "\n",
    "N = len(S1)"
   ]
  },
  {
   "cell_type": "code",
   "execution_count": 6,
   "metadata": {},
   "outputs": [],
   "source": [
    "SUBS_OF_S1 = gen_substring_set(S1)\n",
    "SUBS_OF_S2 = gen_substring_set(S2)"
   ]
  },
  {
   "cell_type": "code",
   "execution_count": 7,
   "metadata": {},
   "outputs": [],
   "source": [
    "T = set.intersection(SUBS_OF_S1, SUBS_OF_S2)"
   ]
  },
  {
   "cell_type": "code",
   "execution_count": 8,
   "metadata": {},
   "outputs": [],
   "source": [
    "Q = [gen_substring_pos(S1, T), gen_substring_pos(S2, T)]"
   ]
  },
  {
   "cell_type": "code",
   "execution_count": 9,
   "metadata": {},
   "outputs": [],
   "source": [
    "#T"
   ]
  },
  {
   "cell_type": "code",
   "execution_count": 10,
   "metadata": {},
   "outputs": [],
   "source": [
    "#Q[0]"
   ]
  },
  {
   "cell_type": "code",
   "execution_count": 11,
   "metadata": {},
   "outputs": [],
   "source": [
    "#Q[1]"
   ]
  },
  {
   "cell_type": "markdown",
   "metadata": {},
   "source": [
    "## Chosing the solver"
   ]
  },
  {
   "cell_type": "code",
   "execution_count": 12,
   "metadata": {},
   "outputs": [],
   "source": [
    "# solver = pywraplp.Solver.CreateSolver('BOP_INTEGER_PROGRAMMING')\n",
    "solver = pywraplp.Solver.CreateSolver('CBC')"
   ]
  },
  {
   "cell_type": "markdown",
   "metadata": {},
   "source": [
    "# Variables"
   ]
  },
  {
   "cell_type": "code",
   "execution_count": 13,
   "metadata": {},
   "outputs": [],
   "source": [
    "y = {}\n",
    "for t_idx, t in enumerate(T):\n",
    "  for q_idx,q in enumerate(Q):\n",
    "    for k in q[t]:\n",
    "      y[t_idx,q_idx,k[0],k[1]] = solver.BoolVar(f'y[{q_idx},{t_idx},{k[0]},{k[1]}]')"
   ]
  },
  {
   "cell_type": "code",
   "execution_count": 14,
   "metadata": {},
   "outputs": [
    {
     "name": "stdout",
     "output_type": "stream",
     "text": [
      "Number of variables = 1172\n"
     ]
    }
   ],
   "source": [
    "print('Number of variables =', solver.NumVariables())"
   ]
  },
  {
   "cell_type": "markdown",
   "metadata": {},
   "source": [
    "# Constraints"
   ]
  },
  {
   "cell_type": "markdown",
   "metadata": {},
   "source": [
    "caso: $\\sum\\limits_{k \\in Q^{1}_{t}} y^{1}_{t,k} = \\sum\\limits_{k \\in Q^{2}_{t}} y^{2}_{t,k}, \\forall t \\in T$\n",
    "\n",
    "This restrictions ensures that the number of partitions of both input strings are equal."
   ]
  },
  {
   "cell_type": "code",
   "execution_count": 15,
   "metadata": {},
   "outputs": [],
   "source": [
    "for t_idx, t in enumerate(T):\n",
    "  partitions_of_S1 = [ y[t_idx, 0, k[0], k[1]] for k in Q[0][t] ]\n",
    "  partitions_of_S2 = [ y[t_idx, 1, k[0], k[1]] for k in Q[1][t] ]\n",
    "\n",
    "  solver.Add(solver.Sum(partitions_of_S1) == solver.Sum(partitions_of_S2))"
   ]
  },
  {
   "cell_type": "markdown",
   "metadata": {},
   "source": [
    "caso: $\\sum\\limits_{t \\in T} \\sum\\limits_{k \\in Q^{1}_{t} | k \\leq j < k + |t| } y^{1}_{t,k} = 1, \\forall j = 1, \\dots, n$\n",
    "\n",
    "Ensures that only one subtring at position $j$ in the $S_1$ was chosen."
   ]
  },
  {
   "cell_type": "code",
   "execution_count": 16,
   "metadata": {},
   "outputs": [],
   "source": [
    "for j in range(N):\n",
    "  substrings_at_pos_j_of_S1 = []\n",
    "  for t_idx, t in enumerate(T):\n",
    "    for k in Q[0][t]: \n",
    "      if k[0] <= j < k[1]: # k[1] == k[0] + size(t)\n",
    "        substrings_at_pos_j_of_S1.append(y[t_idx,0,k[0],k[1]])\n",
    "  \n",
    "  solver.Add(solver.Sum(substrings_at_pos_j_of_S1) == 1)"
   ]
  },
  {
   "cell_type": "markdown",
   "metadata": {},
   "source": [
    "caso: $\\sum\\limits_{t \\in T} \\sum\\limits_{k \\in Q^{2}_{t} | k \\leq j < k + |t| } y^{2}_{t,k} = 1, \\forall j = 1, \\dots, n$\n",
    "\n",
    "Ensures that only one substring at position $j$ in the $S_2$ was chosen."
   ]
  },
  {
   "cell_type": "code",
   "execution_count": 17,
   "metadata": {},
   "outputs": [],
   "source": [
    "for j in range(N):\n",
    "  substrings_at_pos_j_of_S2 = []\n",
    "  for t_idx, t in enumerate(T):\n",
    "    for k in Q[1][t]:\n",
    "      if k[0] <= j < k[1]: # k[1] == k[0] + size(t)\n",
    "        substrings_at_pos_j_of_S2.append(y[t_idx,1,k[0],k[1]])\n",
    "\n",
    "  solver.Add(solver.Sum(substrings_at_pos_j_of_S2) == 1)"
   ]
  },
  {
   "cell_type": "markdown",
   "metadata": {},
   "source": [
    "# Objective Function"
   ]
  },
  {
   "cell_type": "markdown",
   "metadata": {},
   "source": [
    "função: $\\text{Minimize} \\sum\\limits_{t \\in T} \\sum\\limits_{k \\in Q^{1}_{t}} y^{1}_{t,k}$"
   ]
  },
  {
   "cell_type": "code",
   "execution_count": 18,
   "metadata": {},
   "outputs": [],
   "source": [
    "objective_terms = []\n",
    "for t_idx, t in enumerate(T):\n",
    "  for k in Q[0][t]:\n",
    "    objective_terms.append(y[t_idx,0,k[0],k[1]])\n",
    "\n",
    "solver.Minimize(solver.Sum(objective_terms))"
   ]
  },
  {
   "cell_type": "markdown",
   "metadata": {},
   "source": [
    "# Solving"
   ]
  },
  {
   "cell_type": "code",
   "execution_count": 19,
   "metadata": {},
   "outputs": [],
   "source": [
    "status = solver.Solve()"
   ]
  },
  {
   "cell_type": "code",
   "execution_count": 20,
   "metadata": {},
   "outputs": [
    {
     "name": "stdout",
     "output_type": "stream",
     "text": [
      "52.0\n"
     ]
    }
   ],
   "source": [
    "if status == pywraplp.Solver.OPTIMAL or status == pywraplp.Solver.FEASIBLE:\n",
    "  print(solver.Objective().Value())\n",
    "else:\n",
    "  print(\"There is no optimal solution.\")"
   ]
  },
  {
   "cell_type": "code",
   "execution_count": 21,
   "metadata": {},
   "outputs": [],
   "source": [
    "res = []\n",
    "for t_idx, t in enumerate(T):\n",
    "  for k in Q[0][t]:\n",
    "\n",
    "    if abs(y[t_idx,0,k[0],k[1]].solution_value() - 1) <= 0.01:\n",
    "      #print(f'{t_idx},{0},{k[0]},{k[1]}: {y[t_idx,0,k[0],k[1]].solution_value()}')\n",
    "      res.append(S1[k[0]:k[1]])"
   ]
  },
  {
   "cell_type": "code",
   "execution_count": 22,
   "metadata": {},
   "outputs": [],
   "source": [
    "res.sort()"
   ]
  },
  {
   "cell_type": "code",
   "execution_count": 23,
   "metadata": {},
   "outputs": [
    {
     "data": {
      "text/plain": [
       "52"
      ]
     },
     "execution_count": 23,
     "metadata": {},
     "output_type": "execute_result"
    }
   ],
   "source": [
    "len(res)"
   ]
  },
  {
   "cell_type": "code",
   "execution_count": 24,
   "metadata": {},
   "outputs": [],
   "source": [
    "#res"
   ]
  },
  {
   "cell_type": "code",
   "execution_count": 25,
   "metadata": {},
   "outputs": [],
   "source": [
    "# with open('modelo.txt', 'w') as f:\n",
    "#   f.write(solver.ExportModelAsLpFormat(False))"
   ]
  },
  {
   "cell_type": "code",
   "execution_count": 26,
   "metadata": {},
   "outputs": [
    {
     "data": {
      "text/plain": [
       "158"
      ]
     },
     "execution_count": 26,
     "metadata": {},
     "output_type": "execute_result"
    }
   ],
   "source": [
    "N"
   ]
  }
 ],
 "metadata": {
  "kernelspec": {
   "display_name": "Python 3 (ipykernel)",
   "language": "python",
   "name": "python3"
  },
  "language_info": {
   "codemirror_mode": {
    "name": "ipython",
    "version": 3
   },
   "file_extension": ".py",
   "mimetype": "text/x-python",
   "name": "python",
   "nbconvert_exporter": "python",
   "pygments_lexer": "ipython3",
   "version": "3.10.4"
  },
  "vscode": {
   "interpreter": {
    "hash": "2ee98cfd44515ac91e035815a1ea9e26f1801eea8b342db2259b4c12ac106e09"
   }
  }
 },
 "nbformat": 4,
 "nbformat_minor": 2
}
