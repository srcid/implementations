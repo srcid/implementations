{
 "cells": [
  {
   "cell_type": "code",
   "execution_count": 1,
   "metadata": {},
   "outputs": [],
   "source": [
    "from typing import *\n",
    "\n",
    "from ortools.init import pywrapinit\n",
    "from ortools.linear_solver import pywraplp"
   ]
  },
  {
   "cell_type": "code",
   "execution_count": 2,
   "metadata": {},
   "outputs": [],
   "source": [
    "def gen_substring_set(s: str) -> Set[str]:\n",
    "  res: Set[str] = set()\n",
    "\n",
    "  for i in range(len(s)+1):\n",
    "    for j in range(i+1,len(s)+1):\n",
    "      res.add(s[i:j])\n",
    "\n",
    "  return res"
   ]
  },
  {
   "cell_type": "code",
   "execution_count": 3,
   "metadata": {},
   "outputs": [],
   "source": [
    "def gen_common_blocks(S: List[str], T: Set[str]):\n",
    "  blocks = {}\n",
    "  res: Dict[str, List[Tuple[int,int]]] = {}\n",
    "\n",
    "  for s_idx, s in enumerate(S):\n",
    "    for i in range(len(s)+1):\n",
    "      for j in range(i+1,len(s)+1):\n",
    "        if s[i:j] in T:\n",
    "          if (s[i:j],s_idx) in blocks:\n",
    "            blocks[s[i:j], s_idx].append(i)\n",
    "          else:\n",
    "            blocks[s[i:j], s_idx] = [i]\n",
    "\n",
    "  for t in T:\n",
    "    res[t] = list(zip(blocks[t,0],blocks[t,1]))\n",
    "\n",
    "  return res"
   ]
  },
  {
   "cell_type": "code",
   "execution_count": 4,
   "metadata": {},
   "outputs": [],
   "source": [
    "solver = pywraplp.Solver.CreateSolver('GLOP')"
   ]
  },
  {
   "cell_type": "code",
   "execution_count": 5,
   "metadata": {},
   "outputs": [],
   "source": [
    "S1 = 'AGACTG'\n",
    "S2 = 'ACTAGG'\n",
    "N = len(S1)"
   ]
  },
  {
   "cell_type": "code",
   "execution_count": 6,
   "metadata": {},
   "outputs": [],
   "source": [
    "SUBS_OF_S1 = gen_substring_set(S1)\n",
    "SUBS_OF_S2 = gen_substring_set(S2)\n",
    "T = set.intersection(SUBS_OF_S1, SUBS_OF_S2)"
   ]
  },
  {
   "cell_type": "code",
   "execution_count": 7,
   "metadata": {},
   "outputs": [],
   "source": [
    "B = gen_common_blocks([S1,S2], T)"
   ]
  },
  {
   "cell_type": "code",
   "execution_count": 8,
   "metadata": {},
   "outputs": [],
   "source": [
    "M = len(B)"
   ]
  },
  {
   "cell_type": "code",
   "execution_count": 9,
   "metadata": {},
   "outputs": [
    {
     "data": {
      "text/plain": [
       "{'AG': [(0, 3)],\n",
       " 'T': [(4, 2)],\n",
       " 'A': [(0, 0), (2, 3)],\n",
       " 'ACT': [(2, 0)],\n",
       " 'CT': [(3, 1)],\n",
       " 'C': [(3, 1)],\n",
       " 'G': [(1, 4), (5, 5)],\n",
       " 'AC': [(2, 0)]}"
      ]
     },
     "execution_count": 9,
     "metadata": {},
     "output_type": "execute_result"
    }
   ],
   "source": [
    "B"
   ]
  },
  {
   "cell_type": "markdown",
   "metadata": {},
   "source": [
    "## Variáveis"
   ]
  },
  {
   "cell_type": "code",
   "execution_count": 10,
   "metadata": {},
   "outputs": [
    {
     "name": "stdout",
     "output_type": "stream",
     "text": [
      "0 0 3\n",
      "1 4 2\n",
      "2 0 0\n",
      "2 2 3\n",
      "3 2 0\n",
      "4 3 1\n",
      "5 3 1\n",
      "6 1 4\n",
      "6 5 5\n",
      "7 2 0\n"
     ]
    }
   ],
   "source": [
    "x = {}\n",
    "for i,(t,b) in enumerate(B.items()):\n",
    "  for k in b:\n",
    "    print(i,k[0],k[1])\n",
    "    x[i,k[0],k[1]] = solver.BoolVar(f'x_{i}')"
   ]
  },
  {
   "cell_type": "markdown",
   "metadata": {},
   "source": [
    "## Constraint"
   ]
  },
  {
   "cell_type": "markdown",
   "metadata": {},
   "source": [
    "caso: $\\sum\\limits_{i \\in \\{1,\\dots,m\\ | k^{1}_{i} \\leq j < k^{1}_{i} + |t_i|\\}} x_i = 1$"
   ]
  },
  {
   "cell_type": "code",
   "execution_count": 11,
   "metadata": {},
   "outputs": [],
   "source": [
    "for j in range(N):\n",
    "  constraint_terms = []\n",
    "  for i,(t,b) in enumerate(B.items()):\n",
    "    for k in b:\n",
    "      if k[0] <= j < (k[0] + len(t)):\n",
    "        constraint_terms.append(x[i,k[0],k[1]])\n",
    "  \n",
    "  solver.Add(solver.Sum(constraint_terms) == 1)"
   ]
  },
  {
   "cell_type": "markdown",
   "metadata": {},
   "source": [
    "caso: $\\sum\\limits_{i \\in \\{1,\\dots,m\\ | k^{2}_{i} \\leq j < k^{2}_{i} + |t_i|\\}} x_i = 1$"
   ]
  },
  {
   "cell_type": "code",
   "execution_count": 12,
   "metadata": {},
   "outputs": [],
   "source": [
    "for j in range(N):\n",
    "  constraint_terms = []\n",
    "  for i,(t,b) in enumerate(B.items()):\n",
    "    for k in b:\n",
    "      if k[1] <= j < (k[1] + len(t)):\n",
    "        constraint_terms.append(x[i,k[0],k[1]])\n",
    "  \n",
    "  solver.Add(solver.Sum(constraint_terms) == 1)"
   ]
  },
  {
   "cell_type": "markdown",
   "metadata": {},
   "source": [
    "## Objective function"
   ]
  },
  {
   "cell_type": "markdown",
   "metadata": {},
   "source": [
    "$ \\text{Minimize} \\sum\\limits^{m}_{i=1} x_i $"
   ]
  },
  {
   "cell_type": "code",
   "execution_count": 14,
   "metadata": {},
   "outputs": [],
   "source": [
    "objective_terms = []\n",
    "\n",
    "for i,(t,b) in enumerate(B.items()):\n",
    "  for k in b:\n",
    "    objective_terms.append(x[i,k[0],k[1]])\n",
    "\n",
    "solver.Minimize(solver.Sum(objective_terms))    "
   ]
  },
  {
   "cell_type": "markdown",
   "metadata": {},
   "source": [
    "## Solving"
   ]
  },
  {
   "cell_type": "code",
   "execution_count": 16,
   "metadata": {},
   "outputs": [],
   "source": [
    "status = solver.Solve()"
   ]
  },
  {
   "cell_type": "code",
   "execution_count": 17,
   "metadata": {},
   "outputs": [
    {
     "name": "stdout",
     "output_type": "stream",
     "text": [
      "3.0\n"
     ]
    }
   ],
   "source": [
    "if status == pywraplp.Solver.OPTIMAL or status == pywraplp.Solver.FEASIBLE:\n",
    "  print(solver.Objective().Value())\n",
    "else:\n",
    "  print(\"Não há solução ótima.\")"
   ]
  },
  {
   "cell_type": "code",
   "execution_count": 20,
   "metadata": {},
   "outputs": [],
   "source": [
    "res = []\n",
    "\n",
    "for i,(t,b) in enumerate(B.items()):\n",
    "  for k in b:\n",
    "    if x[i,k[0],k[1]].solution_value() == 1:\n",
    "      res.append(t)"
   ]
  },
  {
   "cell_type": "code",
   "execution_count": 22,
   "metadata": {},
   "outputs": [],
   "source": [
    "res.sort()"
   ]
  },
  {
   "cell_type": "code",
   "execution_count": 23,
   "metadata": {},
   "outputs": [
    {
     "data": {
      "text/plain": [
       "['ACT', 'AG', 'G']"
      ]
     },
     "execution_count": 23,
     "metadata": {},
     "output_type": "execute_result"
    }
   ],
   "source": [
    "res"
   ]
  }
 ],
 "metadata": {
  "kernelspec": {
   "display_name": "Python 3.10.4 ('tcc')",
   "language": "python",
   "name": "python3"
  },
  "language_info": {
   "codemirror_mode": {
    "name": "ipython",
    "version": 3
   },
   "file_extension": ".py",
   "mimetype": "text/x-python",
   "name": "python",
   "nbconvert_exporter": "python",
   "pygments_lexer": "ipython3",
   "version": "3.10.4"
  },
  "orig_nbformat": 4,
  "vscode": {
   "interpreter": {
    "hash": "2ee98cfd44515ac91e035815a1ea9e26f1801eea8b342db2259b4c12ac106e09"
   }
  }
 },
 "nbformat": 4,
 "nbformat_minor": 2
}
