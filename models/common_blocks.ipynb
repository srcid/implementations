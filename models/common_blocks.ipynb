{
 "cells": [
  {
   "cell_type": "code",
   "execution_count": 1,
   "metadata": {},
   "outputs": [],
   "source": [
    "from typing import *\n",
    "\n",
    "from ortools.init import pywrapinit\n",
    "from ortools.linear_solver import pywraplp"
   ]
  },
  {
   "cell_type": "code",
   "execution_count": 2,
   "metadata": {},
   "outputs": [],
   "source": [
    "def gen_substring_set(s: str) -> Set[str]:\n",
    "  \"\"\"This function returns all substring of the given string s\n",
    "\n",
    "  Args:\n",
    "      s (str): a string we want extract all substring\n",
    "\n",
    "  Returns:\n",
    "      Set[str]: A set containing every substring without duplicates.\n",
    "  \"\"\"\n",
    "  res: Set[str] = set()\n",
    "\n",
    "  for i in range(len(s)):\n",
    "    for j in range(i+1,len(s)+1):\n",
    "      res.add(s[i:j])\n",
    "\n",
    "  return res"
   ]
  },
  {
   "cell_type": "code",
   "execution_count": 3,
   "metadata": {},
   "outputs": [],
   "source": [
    "def get_ocurrence_indices(S: str, pattern: str):\n",
    "  res = []\n",
    "  for i in range(len(S)):\n",
    "    if S[i:i+len(pattern)] == pattern:\n",
    "      res.append(i)\n",
    "  return res"
   ]
  },
  {
   "cell_type": "code",
   "execution_count": 4,
   "metadata": {},
   "outputs": [],
   "source": [
    "def gen_common_blocks(S1: str, S2: str, T: Set[str]) -> Dict[str, List[Tuple[int,int]]]:\n",
    "  blocks: Dict[str, List[Tuple[int,int]]] = {}\n",
    "  \n",
    "  for t in T:\n",
    "    pos_of_t_in_S1 = get_ocurrence_indices(S1, t) #[m.start() for m in re.finditer(t, S1)]\n",
    "    pos_of_t_in_S2 = get_ocurrence_indices(S2, t) #[m.start() for m in re.finditer(t, S2)]\n",
    "  \n",
    "    for i in pos_of_t_in_S1:\n",
    "      for j in pos_of_t_in_S2:\n",
    "        if t in blocks:\n",
    "          blocks[t].append((i,j))\n",
    "        else:\n",
    "          blocks[t] = [(i,j)]\n",
    "        \n",
    "  return blocks"
   ]
  },
  {
   "cell_type": "code",
   "execution_count": 5,
   "metadata": {},
   "outputs": [],
   "source": [
    "# S1 = 'AGACTGAGG'\n",
    "# S2 = 'ACTAGGAGG'\n",
    "# res: 3\n",
    "\n",
    "# S1 = 'A'*4 # AAAA\n",
    "# S2 = 'A'*4\n",
    "\n",
    "S1 = '34431433244412241432221422333133411412412412412434222241332234331311124144111432313224141131223313212444442323313'\n",
    "S2 = '11431111312241224222342323243133341424113423432413431242234321214232414233413221234334331413141234241211444432114'\n",
    "# res: 41\n",
    "\n",
    "# S1 = '11431131222222242211241142233142424314334333334114212232341142441422241314343143441412214343314324312341333414223221242432233112313443421344143312213144413121'\n",
    "# S2 = '21114222233233431242212421223443444222434144334233243143431241134141124112331441131423434214333342211141234323241224133411332243342213211142413134241311424312'\n",
    "# res: 52\n",
    "\n",
    "N = len(S1)"
   ]
  },
  {
   "cell_type": "code",
   "execution_count": 6,
   "metadata": {},
   "outputs": [
    {
     "data": {
      "text/plain": [
       "113"
      ]
     },
     "execution_count": 6,
     "metadata": {},
     "output_type": "execute_result"
    }
   ],
   "source": [
    "N"
   ]
  },
  {
   "cell_type": "code",
   "execution_count": 7,
   "metadata": {},
   "outputs": [],
   "source": [
    "SUBS_OF_S1 = gen_substring_set(S1)\n",
    "SUBS_OF_S2 = gen_substring_set(S2)\n",
    "T: Set[str] = set.intersection(SUBS_OF_S1, SUBS_OF_S2)"
   ]
  },
  {
   "cell_type": "code",
   "execution_count": 8,
   "metadata": {},
   "outputs": [
    {
     "data": {
      "text/plain": [
       "{'1',\n",
       " '11',\n",
       " '111',\n",
       " '113',\n",
       " '1131',\n",
       " '11312',\n",
       " '113122',\n",
       " '114',\n",
       " '1143',\n",
       " '12',\n",
       " '122',\n",
       " '1224',\n",
       " '12241',\n",
       " '124',\n",
       " '13',\n",
       " '131',\n",
       " '1312',\n",
       " '13122',\n",
       " '132',\n",
       " '1322',\n",
       " '133',\n",
       " '14',\n",
       " '141',\n",
       " '1412',\n",
       " '142',\n",
       " '143',\n",
       " '144',\n",
       " '2',\n",
       " '21',\n",
       " '212',\n",
       " '214',\n",
       " '2142',\n",
       " '22',\n",
       " '221',\n",
       " '222',\n",
       " '223',\n",
       " '2234',\n",
       " '22343',\n",
       " '224',\n",
       " '2241',\n",
       " '23',\n",
       " '232',\n",
       " '2323',\n",
       " '233',\n",
       " '234',\n",
       " '2343',\n",
       " '23433',\n",
       " '24',\n",
       " '241',\n",
       " '2412',\n",
       " '2413',\n",
       " '2414',\n",
       " '243',\n",
       " '3',\n",
       " '31',\n",
       " '311',\n",
       " '3111',\n",
       " '312',\n",
       " '3122',\n",
       " '313',\n",
       " '3133',\n",
       " '314',\n",
       " '32',\n",
       " '321',\n",
       " '3212',\n",
       " '322',\n",
       " '323',\n",
       " '324',\n",
       " '33',\n",
       " '331',\n",
       " '333',\n",
       " '334',\n",
       " '3341',\n",
       " '34',\n",
       " '341',\n",
       " '342',\n",
       " '343',\n",
       " '3433',\n",
       " '34331',\n",
       " '4',\n",
       " '41',\n",
       " '411',\n",
       " '4113',\n",
       " '412',\n",
       " '4122',\n",
       " '41224',\n",
       " '413',\n",
       " '414',\n",
       " '42',\n",
       " '422',\n",
       " '4222',\n",
       " '4223',\n",
       " '423',\n",
       " '4232',\n",
       " '42323',\n",
       " '43',\n",
       " '431',\n",
       " '432',\n",
       " '433',\n",
       " '4331',\n",
       " '44',\n",
       " '443',\n",
       " '444',\n",
       " '4444'}"
      ]
     },
     "execution_count": 8,
     "metadata": {},
     "output_type": "execute_result"
    }
   ],
   "source": [
    "#T"
   ]
  },
  {
   "cell_type": "code",
   "execution_count": 9,
   "metadata": {},
   "outputs": [],
   "source": [
    "B = gen_common_blocks(S1, S2, T)"
   ]
  },
  {
   "cell_type": "code",
   "execution_count": 10,
   "metadata": {},
   "outputs": [],
   "source": [
    "#B"
   ]
  },
  {
   "cell_type": "code",
   "execution_count": 11,
   "metadata": {},
   "outputs": [],
   "source": [
    "solver = pywraplp.Solver.CreateSolver('CBC')"
   ]
  },
  {
   "cell_type": "markdown",
   "metadata": {},
   "source": [
    "## Variáveis"
   ]
  },
  {
   "cell_type": "code",
   "execution_count": 12,
   "metadata": {},
   "outputs": [
    {
     "name": "stdout",
     "output_type": "stream",
     "text": [
      "Number of variables = 4229\n"
     ]
    }
   ],
   "source": [
    "x = {}\n",
    "for t_idx, t in enumerate(T):\n",
    "  for b in B[t]:\n",
    "    x[t_idx,b[0],b[1]] = solver.BoolVar(f'x[{t_idx},{b[0]},{b[1]}]')\n",
    "\n",
    "print('Number of variables =', solver.NumVariables())"
   ]
  },
  {
   "cell_type": "markdown",
   "metadata": {},
   "source": [
    "## Constraint"
   ]
  },
  {
   "cell_type": "markdown",
   "metadata": {},
   "source": [
    "caso: $\\sum\\limits_{i \\in \\{1,\\dots,m\\ | k^{1}_{i} \\leq j < k^{1}_{i} + |t_i|\\}} x_i = 1, \\forall j = 1, \\dots, n$"
   ]
  },
  {
   "cell_type": "code",
   "execution_count": 13,
   "metadata": {},
   "outputs": [],
   "source": [
    "for j in range(N):\n",
    "  blocks_at_pos_j = []\n",
    "  for t_idx, t in enumerate(T):\n",
    "    for b in B[t]:\n",
    "      if b[0] <= j < (b[0] + len(t)):\n",
    "        blocks_at_pos_j.append(x[t_idx, b[0], b[1]])\n",
    "  \n",
    "  solver.Add(solver.Sum(blocks_at_pos_j) == 1)"
   ]
  },
  {
   "cell_type": "markdown",
   "metadata": {},
   "source": [
    "caso: $\\sum\\limits_{i \\in \\{1,\\dots,m\\ | k^{2}_{i} \\leq j < k^{2}_{i} + |t_i|\\}} x_i = 1, \\forall j = 1, \\dots, n$"
   ]
  },
  {
   "cell_type": "code",
   "execution_count": 14,
   "metadata": {},
   "outputs": [],
   "source": [
    "for j in range(N):\n",
    "  blocks_at_pos_j = []\n",
    "  for t_idx, t in enumerate(T):\n",
    "    for b in B[t]:\n",
    "      if b[1] <= j < (b[1] + len(t)):\n",
    "        blocks_at_pos_j.append(x[t_idx, b[0], b[1]])\n",
    "        \n",
    "  solver.Add(solver.Sum(blocks_at_pos_j) == 1)"
   ]
  },
  {
   "cell_type": "markdown",
   "metadata": {},
   "source": [
    "## Objective function"
   ]
  },
  {
   "cell_type": "markdown",
   "metadata": {},
   "source": [
    "$ \\text{Minimize} \\sum\\limits^{m}_{i=1} x_i $"
   ]
  },
  {
   "cell_type": "code",
   "execution_count": 15,
   "metadata": {},
   "outputs": [],
   "source": [
    "objetive_terms = []\n",
    "for t_idx, t in enumerate(T):\n",
    "  for b in B[t]:\n",
    "    objetive_terms.append(x[t_idx,b[0],b[1]])\n",
    "\n",
    "solver.Minimize(solver.Sum(objetive_terms))"
   ]
  },
  {
   "cell_type": "markdown",
   "metadata": {},
   "source": [
    "## Solving"
   ]
  },
  {
   "cell_type": "code",
   "execution_count": 16,
   "metadata": {},
   "outputs": [],
   "source": [
    "status = solver.Solve()"
   ]
  },
  {
   "cell_type": "code",
   "execution_count": 17,
   "metadata": {},
   "outputs": [
    {
     "name": "stdout",
     "output_type": "stream",
     "text": [
      "40.19178082191781\n"
     ]
    }
   ],
   "source": [
    "if status == pywraplp.Solver.OPTIMAL or status == pywraplp.Solver.FEASIBLE:\n",
    "  print(solver.Objective().Value())\n",
    "else:\n",
    "  print(\"Não há solução ótima.\")"
   ]
  },
  {
   "cell_type": "code",
   "execution_count": 18,
   "metadata": {},
   "outputs": [],
   "source": [
    "res = []"
   ]
  },
  {
   "cell_type": "code",
   "execution_count": 19,
   "metadata": {},
   "outputs": [],
   "source": [
    "for t_idx, t in enumerate(T):\n",
    "  for b in B[t]:\n",
    "    if abs(x[t_idx,b[0],b[1]].solution_value() - 1) <= 0.1:\n",
    "      res.append(t)"
   ]
  },
  {
   "cell_type": "code",
   "execution_count": 23,
   "metadata": {},
   "outputs": [
    {
     "data": {
      "text/plain": [
       "['34']"
      ]
     },
     "execution_count": 23,
     "metadata": {},
     "output_type": "execute_result"
    }
   ],
   "source": [
    "res"
   ]
  },
  {
   "cell_type": "code",
   "execution_count": 43,
   "metadata": {},
   "outputs": [
    {
     "name": "stdout",
     "output_type": "stream",
     "text": [
      "124 0.102739726027397\n",
      "124 0.102739726027397\n",
      "124 0.102739726027397\n",
      "124 0.102739726027397\n",
      "22 0.15068493150684859\n",
      "22 0.12328767123287565\n",
      "22 0.12328767123287832\n",
      "141 0.01369863013698569\n",
      "34 1.0\n",
      "34 0.06164383561643916\n",
      "34 0.12328767123287832\n",
      "34 0.332191780821917\n",
      "113122 0.698630136986303\n",
      "3212 0.7294520547945208\n",
      "14 0.147260273972602\n",
      "14 0.054794520547946035\n",
      "14 0.27054794520547915\n",
      "14 0.5205479452054795\n",
      "14 0.1849315068493147\n",
      "324 0.366438356164386\n",
      "324 0.01369863013698569\n",
      "33 0.3664383561643808\n",
      "33 0.34589041095890405\n",
      "33 0.15068493150685225\n",
      "33 2.220446049250313e-16\n",
      "2241 0.13698630136986267\n",
      "444 1.1102230246251565e-16\n",
      "444 0.2705479452054792\n",
      "42323 0.12328767123287698\n",
      "41 1.1102230246251565e-16\n",
      "41 0.06164383561643905\n",
      "41 0.04109589041095796\n",
      "41 0.22945205479452113\n",
      "41 0.7328767123287638\n",
      "131 0.28767123287671126\n",
      "131 0.25342465753425125\n",
      "43 0.3356164383561646\n",
      "43 0.13698630136986256\n",
      "43 0.27397260273972546\n",
      "43 0.12328767123287698\n",
      "223 0.1849315068493147\n",
      "223 0.08904109589040932\n",
      "3111 0.26369863013698325\n",
      "142 0.13698630136986267\n",
      "142 0.06164383561643927\n",
      "142 0.01369863013698569\n",
      "1322 0.6678082191780818\n",
      "22343 0.2705479452054792\n",
      "2142 0.2705479452054792\n",
      "241 0.13698630136986267\n",
      "241 0.7260273972602747\n",
      "433 0.2534246575342475\n",
      "3133 9.992007221626409e-16\n",
      "23 0.013698630136985579\n",
      "23 0.15753424657534476\n",
      "23 0.1986301369863006\n",
      "23 0.04794520547945358\n",
      "23 0.31164383561643616\n",
      "114 0.5102739726027371\n",
      "114 0.48972602739726295\n",
      "114 0.27054794520547915\n",
      "114 0.23972602739725785\n",
      "122 1.3322676295501878e-15\n",
      "111 0.03767123287671503\n",
      "313 0.17123287671232967\n",
      "313 0.19520547945205424\n",
      "313 0.15068493150684836\n",
      "313 0.4828767123287667\n",
      "2412 0.1712328767123283\n",
      "2412 0.7260273972602747\n",
      "2412 0.10273972602739698\n",
      "233 0.46917808219178125\n",
      "233 0.5171232876712331\n",
      "431 0.5273972602739728\n",
      "4444 0.7294520547945208\n",
      "2413 0.5205479452054794\n",
      "12 0.19520547945205557\n",
      "12 0.13698630136986145\n",
      "222 0.39726027397260244\n",
      "222 0.4794520547945206\n",
      "13 0.34589041095890405\n",
      "13 0.5171232876712333\n",
      "423 0.876712328767123\n",
      "1143 0.15753424657534476\n",
      "2 0.2705479452054793\n",
      "4113 0.13698630136986267\n",
      "21 0.2705479452054792\n",
      "221 0.06164383561643916\n",
      "11 0.19520547945205557\n",
      "11 0.25684931506849346\n",
      "11 0.2842465753424691\n",
      "11 0.2945205479452032\n",
      "11 0.15068493150684859\n",
      "334 0.13698630136986278\n",
      "334 0.01369863013698569\n",
      "334 0.332191780821917\n",
      "4223 0.33219178082191847\n",
      "412 0.13698630136986267\n",
      "412 0.06849315068493134\n",
      "412 0.794520547945206\n",
      "41224 0.8630136986301373\n",
      "1 0.010273972602739656\n",
      "1 0.33219178082191814\n",
      "1 0.08561643835616212\n",
      "1 0.47945205479452335\n",
      "1 0.12671232876712046\n",
      "1 0.15068493150685225\n",
      "413 0.4178082191780815\n",
      "413 0.06164383561643916\n",
      "323 0.510273972602737\n",
      "3 0.10616438356164626\n",
      "3 0.0650684931506843\n",
      "3 0.017123287671230725\n",
      "3 0.2534246575342485\n",
      "321 0.2705479452054792\n",
      "4222 0.12328767123287698\n",
      "414 0.19520547945205557\n",
      "414 0.6678082191780818\n",
      "4 0.12328767123287698\n",
      "4 0.6061643835616425\n",
      "4 0.2568493150684905\n",
      "4 0.01369863013699002\n",
      "4 0.3595890410958905\n",
      "4 0.4143835616438355\n",
      "4 0.03767123287671503\n",
      "4 3.3306690738754696e-16\n",
      "2343 0.061643835616437825\n",
      "24 0.6198630136986283\n",
      "24 0.01369863013698569\n",
      "24 0.2568493150684935\n",
      "224 0.01369863013698569\n",
      "342 0.876712328767123\n",
      "312 0.06164383561643916\n",
      "331 0.1849315068493147\n",
      "331 0.5616438356164378\n",
      "432 0.14726027397260233\n",
      "432 0.33219178082191825\n",
      "32 0.18493150684931614\n",
      "32 0.7294520547945208\n",
      "32 0.18150684931506988\n",
      "2414 0.8047945205479444\n",
      "2414 0.18150684931506988\n",
      "23433 0.667808219178083\n",
      "31 0.2979452054794506\n",
      "31 0.13698630136986278\n",
      "31 0.18150684931506988\n",
      "31 0.08904109589040943\n",
      "31 0.24657534246575386\n",
      "31 0.04109589041095607\n",
      "13122 0.01369863013698569\n",
      "322 0.2705479452054791\n",
      "143 0.33219178082191814\n"
     ]
    }
   ],
   "source": [
    "teste = []\n",
    "for t_idx, t in enumerate(T):\n",
    "  for b in B[t]:\n",
    "    if x[t_idx,b[0],b[1]].solution_value() != 0:\n",
    "      print(t, x[t_idx,b[0],b[1]].solution_value())\n",
    "    "
   ]
  },
  {
   "cell_type": "code",
   "execution_count": 40,
   "metadata": {},
   "outputs": [
    {
     "data": {
      "text/plain": [
       "36"
      ]
     },
     "execution_count": 40,
     "metadata": {},
     "output_type": "execute_result"
    }
   ],
   "source": []
  },
  {
   "cell_type": "code",
   "execution_count": 21,
   "metadata": {},
   "outputs": [],
   "source": [
    "# with open('modelo.txt', 'w') as f:\n",
    "#   f.write(solver.ExportModelAsLpFormat(False))\n",
    "#   f.close()"
   ]
  },
  {
   "cell_type": "code",
   "execution_count": 22,
   "metadata": {},
   "outputs": [],
   "source": [
    "# N"
   ]
  }
 ],
 "metadata": {
  "kernelspec": {
   "display_name": "Python 3.10.7 64-bit",
   "language": "python",
   "name": "python3"
  },
  "language_info": {
   "codemirror_mode": {
    "name": "ipython",
    "version": 3
   },
   "file_extension": ".py",
   "mimetype": "text/x-python",
   "name": "python",
   "nbconvert_exporter": "python",
   "pygments_lexer": "ipython3",
   "version": "3.10.7"
  },
  "orig_nbformat": 4,
  "vscode": {
   "interpreter": {
    "hash": "e7370f93d1d0cde622a1f8e1c04877d8463912d04d973331ad4851f04de6915a"
   }
  }
 },
 "nbformat": 4,
 "nbformat_minor": 2
}
