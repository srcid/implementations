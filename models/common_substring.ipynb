{
 "cells": [
  {
   "cell_type": "markdown",
   "metadata": {},
   "source": [
    "# Implementation of common string model for MCSP"
   ]
  },
  {
   "cell_type": "code",
   "execution_count": 1,
   "metadata": {},
   "outputs": [],
   "source": [
    "from typing import *\n",
    "\n",
    "import numpy as np"
   ]
  },
  {
   "cell_type": "code",
   "execution_count": 2,
   "metadata": {},
   "outputs": [],
   "source": [
    "from ortools.init import pywrapinit\n",
    "from ortools.linear_solver import pywraplp\n",
    "\n",
    "solver = pywraplp.Solver.CreateSolver('GLOP')"
   ]
  },
  {
   "cell_type": "code",
   "execution_count": 3,
   "metadata": {},
   "outputs": [],
   "source": [
    "def gen_substring_pos(s: str, T: Set[str]) -> Dict[str, List[Tuple[int,int]]]:\n",
    "  res: Dict[str, List[Tuple[int,int]]] = {}\n",
    "\n",
    "  for i in range(len(s)+1):\n",
    "    for j in range(i+1,len(s)+1):\n",
    "      if s[i:j] in T:\n",
    "        if s[i:j] in res:\n",
    "          res[s[i:j]].append((i,j))\n",
    "        else:\n",
    "          res[s[i:j]] = [(i,j)]\n",
    "\n",
    "  return res"
   ]
  },
  {
   "cell_type": "code",
   "execution_count": 4,
   "metadata": {},
   "outputs": [],
   "source": [
    "def gen_substring_set(s: str) -> Set[str]:\n",
    "  res: Set[str] = set()\n",
    "\n",
    "  for i in range(len(s)+1):\n",
    "    for j in range(i+1,len(s)+1):\n",
    "      res.add(s[i:j])\n",
    "\n",
    "  return res"
   ]
  },
  {
   "cell_type": "code",
   "execution_count": 5,
   "metadata": {},
   "outputs": [],
   "source": [
    "S1 = 'AGACTG'\n",
    "S2 = 'ACTAGG'\n",
    "N = len(S1)"
   ]
  },
  {
   "cell_type": "code",
   "execution_count": 6,
   "metadata": {},
   "outputs": [],
   "source": [
    "SUBS_OF_S1 = gen_substring_set(S1)\n",
    "SUBS_OF_S2 = gen_substring_set(S2)"
   ]
  },
  {
   "cell_type": "code",
   "execution_count": 7,
   "metadata": {},
   "outputs": [],
   "source": [
    "T = set.intersection(SUBS_OF_S1, SUBS_OF_S2)"
   ]
  },
  {
   "cell_type": "code",
   "execution_count": 8,
   "metadata": {},
   "outputs": [],
   "source": [
    "Q = [gen_substring_pos(S1, T), gen_substring_pos(S2, T)]"
   ]
  },
  {
   "cell_type": "markdown",
   "metadata": {},
   "source": [
    "# Variables"
   ]
  },
  {
   "cell_type": "code",
   "execution_count": 9,
   "metadata": {},
   "outputs": [],
   "source": [
    "y = {}\n",
    "for t_idx, t in enumerate(T):\n",
    "  for q_idx,q in enumerate(Q):\n",
    "    for k in q[t]:\n",
    "      y[t_idx,q_idx,k[0],k[1]] = solver.IntVar(0,1,f'y^{q_idx}_{t_idx}_{k[0]}_{k[1]}')"
   ]
  },
  {
   "cell_type": "code",
   "execution_count": 10,
   "metadata": {},
   "outputs": [
    {
     "name": "stdout",
     "output_type": "stream",
     "text": [
      "Number of variables = 20\n"
     ]
    }
   ],
   "source": [
    "print('Number of variables =', solver.NumVariables())"
   ]
  },
  {
   "cell_type": "markdown",
   "metadata": {},
   "source": [
    "# Constraints"
   ]
  },
  {
   "cell_type": "markdown",
   "metadata": {},
   "source": [
    "caso: $\\sum\\limits_{k \\in Q^{1}_{t}} y^{1}_{t,k} = \\sum\\limits_{k \\in Q^{2}_{t}} y^{2}_{t,k}$"
   ]
  },
  {
   "cell_type": "code",
   "execution_count": 11,
   "metadata": {},
   "outputs": [],
   "source": [
    "for t_idx, t in enumerate(T):\n",
    "  lista1 = [ y[t_idx,0,k[0],k[1]] for k in Q[0][t]]\n",
    "  lista2 = [ y[t_idx,1,k[0],k[1]] for k in Q[1][t]]\n",
    "\n",
    "  solver.Add(solver.Sum(lista1) == solver.Sum(lista2))"
   ]
  },
  {
   "cell_type": "markdown",
   "metadata": {},
   "source": [
    "caso: $\\sum\\limits_{t \\in T} \\sum\\limits_{k \\in Q^{1}_{t} | k \\leq j < k + |t| } y^{1}_{t,k} = 1$"
   ]
  },
  {
   "cell_type": "code",
   "execution_count": 12,
   "metadata": {},
   "outputs": [],
   "source": [
    "for j in range(N):\n",
    "  lista = []\n",
    "  for t_idx, t in enumerate(T):\n",
    "    for k in Q[0][t]: # k[1] == k[0] + size(t)\n",
    "      if k[0] <= j < k[1]:\n",
    "        lista.append(y[t_idx,0,k[0],k[1]])\n",
    "  \n",
    "  solver.Add(solver.Sum(lista) == 1)"
   ]
  },
  {
   "cell_type": "markdown",
   "metadata": {},
   "source": [
    "caso: $\\sum\\limits_{t \\in T} \\sum\\limits_{k \\in Q^{2}_{t} | k \\leq j < k + |t| } y^{2}_{t,k} = 1$"
   ]
  },
  {
   "cell_type": "code",
   "execution_count": 14,
   "metadata": {},
   "outputs": [],
   "source": [
    "for j in range(N):\n",
    "  lista = []\n",
    "  for t_idx, t in enumerate(T):\n",
    "    for k in Q[1][t]: # k[1] == k[0] + size(t)\n",
    "      if k[0] <= j < k[1]:\n",
    "        lista.append(y[t_idx,1,k[0],k[1]])\n",
    "\n",
    "  solver.Add(solver.Sum(lista) == 1)"
   ]
  },
  {
   "cell_type": "markdown",
   "metadata": {},
   "source": [
    "# Objective Function"
   ]
  },
  {
   "cell_type": "markdown",
   "metadata": {},
   "source": [
    "função: $\\sum\\limits_{t \\in T} \\sum\\limits_{k \\in Q^{1}_{t}} y^{1}_{t,k}$"
   ]
  },
  {
   "cell_type": "code",
   "execution_count": 17,
   "metadata": {},
   "outputs": [],
   "source": [
    "objective_terms = []\n",
    "for t_idx, t in enumerate(T):\n",
    "  for k in Q[0][t]:\n",
    "    objective_terms.append(y[t_idx,0,k[0],k[1]])\n",
    "\n",
    "solver.Minimize(solver.Sum(objective_terms))"
   ]
  },
  {
   "cell_type": "markdown",
   "metadata": {},
   "source": [
    "# Solving"
   ]
  },
  {
   "cell_type": "code",
   "execution_count": 18,
   "metadata": {},
   "outputs": [],
   "source": [
    "status = solver.Solve()"
   ]
  },
  {
   "cell_type": "code",
   "execution_count": 19,
   "metadata": {},
   "outputs": [
    {
     "name": "stdout",
     "output_type": "stream",
     "text": [
      "3.0\n"
     ]
    }
   ],
   "source": [
    "if status == pywraplp.Solver.OPTIMAL or status == pywraplp.Solver.FEASIBLE:\n",
    "  print(solver.Objective().Value())\n",
    "else:\n",
    "  print(\"Não há solução ótima.\")"
   ]
  },
  {
   "cell_type": "code",
   "execution_count": 24,
   "metadata": {},
   "outputs": [
    {
     "name": "stdout",
     "output_type": "stream",
     "text": [
      "0,0,1,2: 0.0\n",
      "0,0,5,6: 1.0\n",
      "1,0,3,5: 0.0\n",
      "2,0,0,1: 0.0\n",
      "2,0,2,3: 0.0\n",
      "3,0,2,5: 1.0\n",
      "4,0,2,4: 0.0\n",
      "5,0,3,4: 0.0\n",
      "6,0,0,2: 1.0\n",
      "7,0,4,5: 0.0\n"
     ]
    }
   ],
   "source": [
    "res = []\n",
    "for t_idx, t in enumerate(T):\n",
    "  for k in Q[0][t]:\n",
    "    print(f'{t_idx},{0},{k[0]},{k[1]}: {y[t_idx,0,k[0],k[1]].solution_value()}')\n",
    "\n",
    "    if y[t_idx,0,k[0],k[1]].solution_value() == 1:\n",
    "      res.append(S1[k[0]:k[1]])"
   ]
  },
  {
   "cell_type": "code",
   "execution_count": 27,
   "metadata": {},
   "outputs": [],
   "source": [
    "res.sort()"
   ]
  },
  {
   "cell_type": "code",
   "execution_count": 28,
   "metadata": {},
   "outputs": [
    {
     "data": {
      "text/plain": [
       "['ACT', 'AG', 'G']"
      ]
     },
     "execution_count": 28,
     "metadata": {},
     "output_type": "execute_result"
    }
   ],
   "source": [
    "res"
   ]
  }
 ],
 "metadata": {
  "kernelspec": {
   "display_name": "Python 3.10.4 ('tcc')",
   "language": "python",
   "name": "python3"
  },
  "language_info": {
   "codemirror_mode": {
    "name": "ipython",
    "version": 3
   },
   "file_extension": ".py",
   "mimetype": "text/x-python",
   "name": "python",
   "nbconvert_exporter": "python",
   "pygments_lexer": "ipython3",
   "version": "3.10.4"
  },
  "orig_nbformat": 4,
  "vscode": {
   "interpreter": {
    "hash": "2ee98cfd44515ac91e035815a1ea9e26f1801eea8b342db2259b4c12ac106e09"
   }
  }
 },
 "nbformat": 4,
 "nbformat_minor": 2
}
